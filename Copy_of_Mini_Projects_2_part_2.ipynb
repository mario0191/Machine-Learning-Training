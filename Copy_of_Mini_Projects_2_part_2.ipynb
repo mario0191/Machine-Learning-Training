{
  "nbformat": 4,
  "nbformat_minor": 0,
  "metadata": {
    "colab": {
      "name": "Copy of Mini_Projects_2/ part 2.ipynb",
      "provenance": [],
      "include_colab_link": true
    },
    "kernelspec": {
      "name": "python3",
      "display_name": "Python 3"
    }
  },
  "cells": [
    {
      "cell_type": "markdown",
      "metadata": {
        "id": "view-in-github",
        "colab_type": "text"
      },
      "source": [
        "<a href=\"https://colab.research.google.com/github/mario0191/Machine-Learning-Training/blob/main/Copy_of_Mini_Projects_2_part_2.ipynb\" target=\"_parent\"><img src=\"https://colab.research.google.com/assets/colab-badge.svg\" alt=\"Open In Colab\"/></a>"
      ]
    },
    {
      "cell_type": "markdown",
      "metadata": {
        "id": "c2sSEq3uSurn"
      },
      "source": [
        "# Files and Exceptions"
      ]
    },
    {
      "cell_type": "code",
      "metadata": {
        "id": "VppOUgyU_Auv"
      },
      "source": [
        "from google.colab import drive\n",
        "drive.mount('/content/drive')"
      ],
      "execution_count": null,
      "outputs": []
    },
    {
      "cell_type": "markdown",
      "metadata": {
        "id": "qw2XyRs-TWIF"
      },
      "source": [
        "**8. Sum of Numbers** <br>\n",
        "Assume that a file containing a series of integers is named numbers.txt and exists on the Drive. Write a program that reads all of the numbers stored in the file and calculates their total.\n",
        "\n",
        "Find file here: <br>\n",
        "https://drive.google.com/file/d/1GaOURA7jp0NLvfaOfl4cCClKK_pv3q0r/view?usp=sharing"
      ]
    },
    {
      "cell_type": "code",
      "metadata": {
        "id": "92EStR9KSu8N",
        "colab": {
          "base_uri": "https://localhost:8080/"
        },
        "outputId": "b2cbb6ae-a143-4fa1-85c1-6215dcdad100"
      },
      "source": [
        " \n",
        "def main():\n",
        "  \n",
        "  num_file = open('/numbers.txt', 'r')\n",
        " \n",
        "  total = 0.0\n",
        " \n",
        "  for line in num_file:\n",
        "    \n",
        "    numbers = int(line)\n",
        "    print(numbers)\n",
        "    \n",
        "    total += numbers\n",
        " \n",
        "  num_file.close()\n",
        "  \n",
        "  print('The total is = ', total)\n",
        " \n",
        "# Call the main function.\n",
        "main()"
      ],
      "execution_count": null,
      "outputs": [
        {
          "output_type": "stream",
          "text": [
            "86850343\n",
            "88065952\n",
            "89381968\n",
            "89536251\n",
            "89714939\n",
            "89826424\n",
            "90124775\n",
            "90672109\n",
            "91408453\n",
            "92438737\n",
            "93361277\n",
            "93890243\n",
            "94372638\n",
            "94759578\n",
            "95079649\n",
            "95439651\n",
            "95611217\n",
            "95980818\n",
            "96336673\n",
            "96581524\n",
            "97041824\n",
            "97379048\n",
            "97672500\n",
            "98066518\n",
            "98479598\n",
            "98934553\n",
            "99246321\n",
            "99431136\n",
            "99835823\n",
            "100049946\n",
            "100234498\n",
            "100568960\n",
            "100806870\n",
            "101097750\n",
            "101820859\n",
            "102455417\n",
            "103013163\n",
            "103523365\n",
            "104177442\n",
            "104757015\n",
            "105145703\n",
            "105694237\n",
            "106140898\n",
            "107246430\n",
            "109272544\n",
            "111539027\n",
            "112522852\n",
            "113783213\n",
            "114620610\n",
            "116036567\n",
            "117421727\n",
            "119134533\n",
            "120378586\n",
            "121554027\n",
            "121817833\n",
            "122730767\n",
            "123673909\n",
            "124747226\n",
            "The total is =  5931486514.0\n"
          ],
          "name": "stdout"
        }
      ]
    },
    {
      "cell_type": "code",
      "metadata": {
        "id": "B7GImG_lSu-u"
      },
      "source": [
        ""
      ],
      "execution_count": null,
      "outputs": []
    },
    {
      "cell_type": "markdown",
      "metadata": {
        "id": "gW0mWcdDVgK4"
      },
      "source": [
        "**9. Average of Numbers** <br>\n",
        "Assume that a file containing a series of integers is named numbers.txt and exists on the Drive. Write a program that calculates the average of all the numbers stored in\n",
        "the file"
      ]
    },
    {
      "cell_type": "code",
      "metadata": {
        "id": "3-DZx-vnSvCe",
        "colab": {
          "base_uri": "https://localhost:8080/"
        },
        "outputId": "ad23df0c-3453-483f-ea11-cd95bac18fb0"
      },
      "source": [
        " \n",
        "def main():\n",
        "    total = 0.0\n",
        "    count = 0\n",
        " \n",
        "    random_numbers_file = open('numbers.txt','r')\n",
        " \n",
        "    for line in random_numbers_file:\n",
        "        number = float(line)\n",
        "        count += 1\n",
        "        total += number\n",
        "    average = total / count\n",
        "    print(\"The average of all the numbers found in 'numbers.txt' is:\", format(average,'.2f'))\n",
        " \n",
        "main()"
      ],
      "execution_count": null,
      "outputs": [
        {
          "output_type": "stream",
          "text": [
            "The average of all the numbers found in 'numbers.txt' is: 265.36\n"
          ],
          "name": "stdout"
        }
      ]
    },
    {
      "cell_type": "markdown",
      "metadata": {
        "id": "vjchCYETVwPx"
      },
      "source": [
        "**10. Random Number File Writer**<br>\n",
        "Write a program that writes a series of random numbers to a file. Each random number should be in the range of 1 \n",
        "through 500. The application should let the user specify how\n",
        "many random numbers the file will hold.\n"
      ]
    },
    {
      "cell_type": "code",
      "metadata": {
        "id": "DCyba_BZVxLF",
        "colab": {
          "base_uri": "https://localhost:8080/"
        },
        "outputId": "5e18ebab-2a59-4cec-c8bb-15d6f5a2418b"
      },
      "source": [
        " \n",
        "def main():\n",
        "    import random\n",
        "    numbers = int(input('Enter the amount of random numbers you would like in numeric '))\n",
        "    counter = 0\n",
        "    file = open('numbers.txt', 'w')\n",
        "    while counter < numbers:\n",
        "        randomNumber = random.randint(1, 500)\n",
        "        counter = counter + 1\n",
        "        file.write(str(randomNumber) + '\\n')\n",
        " \n",
        "    file.close()\n",
        "    print('Data written to random numbers.txt')\n",
        " \n",
        "main()"
      ],
      "execution_count": null,
      "outputs": [
        {
          "output_type": "stream",
          "text": [
            "Enter the amount of random numbers you would like in numeric 77\n",
            "Data written to random numbers.txt\n"
          ],
          "name": "stdout"
        }
      ]
    },
    {
      "cell_type": "code",
      "metadata": {
        "id": "uZ7CQJM0VxN5"
      },
      "source": [
        ""
      ],
      "execution_count": null,
      "outputs": []
    },
    {
      "cell_type": "markdown",
      "metadata": {
        "id": "p75ZKqbXWMdY"
      },
      "source": [
        "**11.  Exception Handing** <br>\n",
        "Modify the program that you wrote for Exercise 9 so it handles the following exceptions: <br>\n",
        "* It should handle any IOError exceptions that are raised when the file is opened and data\n",
        "is read from it. <br>\n",
        "* It should handle any ValueError exceptions that are raised when the items that are read from the file are converted to a number."
      ]
    },
    {
      "cell_type": "code",
      "metadata": {
        "id": "22SOHQbrVxRE",
        "colab": {
          "base_uri": "https://localhost:8080/"
        },
        "outputId": "bca16a93-a561-4fba-a070-89dd88ee26f9"
      },
      "source": [
        " \n",
        "def main():\n",
        "  \n",
        "  try:\n",
        "    total = 0.0\n",
        "    count = 0\n",
        " \n",
        "    random_numbers_file = open('numbers.txt','r')\n",
        " \n",
        "    for line in random_numbers_file:\n",
        "      number = float(line)\n",
        "      count += 1\n",
        "      total += number\n",
        "    average = total / count\n",
        "    print(\"The average of all the numbers found in 'numbers.txt' is:\", format(average,'.2f'))\n",
        " \n",
        "  except IOError:\n",
        "    print('An error occured trying to read the file.')\n",
        " \n",
        "  except ValueError:\n",
        "    print('Non-numeric data found in the file.')\n",
        " \n",
        "  \n",
        "main()"
      ],
      "execution_count": null,
      "outputs": [
        {
          "output_type": "stream",
          "text": [
            "The average of all the numbers found in 'numbers.txt' is: 265.36\n"
          ],
          "name": "stdout"
        }
      ]
    },
    {
      "cell_type": "code",
      "metadata": {
        "id": "3p0MENR_WrBV"
      },
      "source": [
        ""
      ],
      "execution_count": null,
      "outputs": []
    }
  ]
}